{
 "cells": [
  {
   "cell_type": "code",
   "execution_count": 66,
   "metadata": {},
   "outputs": [],
   "source": [
    "# Import Module\n",
    "import arcpy\n",
    "from arcpy.ia import *\n",
    "import glob\n",
    "from sys import argv\n",
    "import os\n",
    "import shutil"
   ]
  },
  {
   "cell_type": "code",
   "execution_count": 67,
   "metadata": {},
   "outputs": [],
   "source": [
    "os.environ[\"CUDA_VISIBLE_DEVICES\"]=\"0,1\""
   ]
  },
  {
   "cell_type": "code",
   "execution_count": 68,
   "metadata": {},
   "outputs": [
    {
     "data": {
      "text/plain": [
       "'CheckedOut'"
      ]
     },
     "execution_count": 68,
     "metadata": {},
     "output_type": "execute_result"
    }
   ],
   "source": [
    "#CheckSystem\n",
    "arcpy.env.overwriteOutput = False\n",
    "arcpy.CheckOutExtension(\"ImageAnalyst\")"
   ]
  },
  {
   "cell_type": "code",
   "execution_count": 69,
   "metadata": {},
   "outputs": [],
   "source": [
    "#Mendefinisikan Variable\n",
    "workspace = \"D:\\\\SANDI\\\\DEEP LEARNING\\\\TEST CMD\\\\\"\n",
    "in_raster = workspace + \"*.jp2\"\n",
    "in_model_definition = \"C:/tensorflow/models/research/object_detection/PalmDetection/PalmDetection.emd\"\n",
    "model_arguments = \"padding 0; score_threshold 0.6; batch_size 4\"\n",
    "run_nms = \"NMS\"\n",
    "confidence_score_field = \"Confidence\"\n",
    "class_value_field = \"Class\"\n",
    "max_overlap_ratio = 0.15\n",
    "processing_mode = \"PROCESS_AS_MOSAICKED_IMAGE\""
   ]
  },
  {
   "cell_type": "code",
   "execution_count": 70,
   "metadata": {},
   "outputs": [
    {
     "name": "stdout",
     "output_type": "stream",
     "text": [
      "Daftar Proses:\n",
      "Deteksi: D:\\SANDI\\DEEP LEARNING\\TEST CMD\\20204121E.jp2\n",
      "Deteksi: D:\\SANDI\\DEEP LEARNING\\TEST CMD\\20204121H.jp2\n",
      "Deteksi: D:\\SANDI\\DEEP LEARNING\\TEST CMD\\20204121I.jp2\n",
      "Deteksi: D:\\SANDI\\DEEP LEARNING\\TEST CMD\\20204121J.jp2\n",
      "Deteksi: D:\\SANDI\\DEEP LEARNING\\TEST CMD\\20204122A.jp2\n",
      "Deteksi: D:\\SANDI\\DEEP LEARNING\\TEST CMD\\20204122G.jp2\n",
      "Deteksi: D:\\SANDI\\DEEP LEARNING\\TEST CMD\\20204122K.jp2\n",
      "Deteksi: D:\\SANDI\\DEEP LEARNING\\TEST CMD\\20204122L.jp2\n",
      "Deteksi: D:\\SANDI\\DEEP LEARNING\\TEST CMD\\20204122M.jp2\n",
      "Deteksi: D:\\SANDI\\DEEP LEARNING\\TEST CMD\\20204122N.jp2\n",
      "Deteksi: D:\\SANDI\\DEEP LEARNING\\TEST CMD\\20204122O.jp2\n",
      "Deteksi: D:\\SANDI\\DEEP LEARNING\\TEST CMD\\20204122P.jp2\n",
      "Deteksi: D:\\SANDI\\DEEP LEARNING\\TEST CMD\\20204122S.jp2\n",
      "Deteksi: D:\\SANDI\\DEEP LEARNING\\TEST CMD\\20204123R.jp2\n",
      "Deteksi: D:\\SANDI\\DEEP LEARNING\\TEST CMD\\20204123T.jp2\n",
      "Deteksi: D:\\SANDI\\DEEP LEARNING\\TEST CMD\\20204123U.jp2\n",
      "Deteksi: D:\\SANDI\\DEEP LEARNING\\TEST CMD\\20204123V.jp2\n",
      "Deteksi: D:\\SANDI\\DEEP LEARNING\\TEST CMD\\20204123W.jp2\n",
      "Deteksi: D:\\SANDI\\DEEP LEARNING\\TEST CMD\\20204123X.jp2\n",
      "Deteksi: D:\\SANDI\\DEEP LEARNING\\TEST CMD\\20204123Y.jp2\n",
      "Deteksi: D:\\SANDI\\DEEP LEARNING\\TEST CMD\\20204123Z.jp2\n"
     ]
    }
   ],
   "source": [
    "#Definisikan Output\n",
    "dataset = glob.glob(in_raster)\n",
    "print(\"Daftar Proses:\")\n",
    "for raster in dataset:\n",
    "    print(\"Deteksi:\", raster)"
   ]
  },
  {
   "cell_type": "code",
   "execution_count": 71,
   "metadata": {},
   "outputs": [
    {
     "name": "stdout",
     "output_type": "stream",
     "text": [
      "Folder Sudah Ada\n"
     ]
    }
   ],
   "source": [
    "#Membuat Directory Output\n",
    "try:\n",
    "    outputraw = workspace + \"\\RAW\"\n",
    "    outputfinal = workspace + \"\\HASIL\"\n",
    "    os.mkdir(outputraw)\n",
    "    os.mkdir(outputfinal)\n",
    "except FileExistsError:\n",
    "    print(\"Folder Sudah Ada\")\n",
    "    pass"
   ]
  },
  {
   "cell_type": "code",
   "execution_count": 57,
   "metadata": {},
   "outputs": [
    {
     "data": {
      "text/plain": [
       "<Result 'D:\\\\SANDI\\\\DEEP LEARNING\\\\TEST CMD\\\\HASIL\\\\FINAL.gdb'>"
      ]
     },
     "execution_count": 57,
     "metadata": {},
     "output_type": "execute_result"
    }
   ],
   "source": [
    "arcpy.CreateFileGDB_management(\"D:\\SANDI\\DEEP LEARNING\\TEST CMD\\RAW\", \"RAW.gdb\")\n",
    "arcpy.CreateFileGDB_management(\"D:\\SANDI\\DEEP LEARNING\\TEST CMD\\HASIL\", \"FINAL.gdb\")"
   ]
  },
  {
   "cell_type": "code",
   "execution_count": 75,
   "metadata": {},
   "outputs": [],
   "source": [
    "def Model(dataset):\n",
    "    for raster in dataset:\n",
    "        #Membuat Variable Input Output\n",
    "        outputraw = raster[:-14] + \"\\RAW\"\n",
    "        outputfinal =raster[:-14] + \"\\HASIL\"\n",
    "        outputrawgdb = outputraw + \"\\RAW.gdb\"\n",
    "        outputfinalgdb = outputfinal + \"\\FINAL.gdb\"\n",
    "        try:\n",
    "            print(\"Proses Deteksi:\", raster)\n",
    "            with arcpy.EnvManager(extent=\"DEFAULT\"):\n",
    "                DetectObjectsUsingDeepLearning(raster, outputrawgdb + \"\\TAP\" + raster[-13:-4] +\"_Detected\",\n",
    "                                           in_model_definition, model_arguments, run_nms, confidence_score_field,\n",
    "                                           class_value_field, max_overlap_ratio)\n",
    "        except AttributeError:\n",
    "            pass\n",
    "            \n",
    "            \n",
    "        print(\"Post_Processing:\", raster)\n",
    "    \n",
    "        #Membuat Variable Input Output\n",
    "        outputraw = raster[:-14] + \"\\RAW\"\n",
    "        outputfinal =raster[:-14] + \"\\HASIL\"\n",
    "    \n",
    "        shpdata = outputrawgdb + \"\\TAP\" + raster[-13:-4] +\"_Detected\"\n",
    "        shppoint = outputrawgdb + \"\\TAP\" + raster[-13:-4] +\"_Point\"\n",
    "        dissolve = outputrawgdb + \"\\TAP\" + raster[-13:-4] +\"_Dissolve\"\n",
    "        shpsj = outputrawgdb + \"\\TAP\" + raster[-13:-4] +\"_SJ\"\n",
    "        finalresult = outputfinalgdb + \"\\TAP\" + raster[-13:-4] +\"_Crown\"\n",
    "\n",
    "        #Post Processing Lokasi\n",
    "        arcpy.FeatureToPoint_management(in_features=shpdata,\n",
    "                                        out_feature_class=shppoint, point_location=\"CENTROID\")\n",
    "        arcpy.AddField_management(in_table=shppoint,\n",
    "                                  field_name=\"LONGITUDE\",\n",
    "                                  field_type=\"DOUBLE\", field_precision=None, field_scale=None, field_length=None, field_alias=\"\", field_is_nullable=\"NULLABLE\", field_is_required=\"NON_REQUIRED\", field_domain=\"\")\n",
    "        arcpy.AddField_management(in_table=shppoint,\n",
    "                                  field_name=\"LATITUDE\",\n",
    "                                  field_type=\"DOUBLE\", field_precision=None, field_scale=None, field_length=None, field_alias=\"\", field_is_nullable=\"NULLABLE\", field_is_required=\"NON_REQUIRED\", field_domain=\"\")\n",
    "        arcpy.Integrate_management(in_features=[[shppoint, \"\"]], cluster_tolerance=\"2.2 Meters\")\n",
    "        arcpy.CalculateGeometryAttributes_management(in_features=shppoint, geometry_property=[[\"LONGITUDE\", \"POINT_X\"], [\"LATITUDE\", \"POINT_Y\"]],\n",
    "                                                     length_unit=\"\", area_unit=\"\",\n",
    "                                                     coordinate_system=\"GEOGCS['GCS_WGS_1984',DATUM['D_WGS_1984',SPHEROID['WGS_1984',6378137.0,298.257223563]],PRIMEM['Greenwich',0.0],UNIT['Degree',0.0174532925199433]]\")\n",
    "        with arcpy.EnvManager(XYTolerance=\"1 Meters\"):\n",
    "            arcpy.Dissolve_management(in_features=shppoint, out_feature_class=dissolve,\n",
    "                                      dissolve_field=[\"LONGITUDE\", \"LATITUDE\"], statistics_fields=[[\"LONGITUDE\", \"FIRST\"], [\"LATITUDE\", \"FIRST\"]], multi_part=\"MULTI_PART\", unsplit_lines=\"DISSOLVE_LINES\")\n",
    "        arcpy.DeleteIdentical_management(in_dataset=dissolve, fields=[\"LONGITUDE\", \"LATITUDE\"], xy_tolerance=\"1 Meters\", z_tolerance=0)\n",
    "        arcpy.Near_analysis(in_features=dissolve, near_features=[dissolve], search_radius=\"2 Meters\", location=\"NO_LOCATION\", angle=\"NO_ANGLE\", method=\"PLANAR\")\n",
    "        arcpy.DeleteIdentical_management(in_dataset=dissolve,\n",
    "                                         fields=[\"LONGITUDE\", \"LATITUDE\", \"NEAR_DIST\"], xy_tolerance=\"\", z_tolerance=0)\n",
    "\n",
    "        #Post Processing Atribut\n",
    "        arcpy.AddField_management(in_table=shpdata,\n",
    "                                  field_name=\"Xmin\", field_type=\"DOUBLE\", field_precision=None, field_scale=None, field_length=None, field_alias=\"\", field_is_nullable=\"NULLABLE\", field_is_required=\"NON_REQUIRED\", field_domain=\"\")\n",
    "        arcpy.AddField_management(in_table=shpdata,\n",
    "                                  field_name=\"Xmax\", field_type=\"DOUBLE\", field_precision=None, field_scale=None, field_length=None, field_alias=\"\", field_is_nullable=\"NULLABLE\", field_is_required=\"NON_REQUIRED\", field_domain=\"\")\n",
    "        arcpy.AddField_management(in_table=shpdata,\n",
    "                                  field_name=\"Ymin\", field_type=\"DOUBLE\", field_precision=None, field_scale=None, field_length=None, field_alias=\"\", field_is_nullable=\"NULLABLE\", field_is_required=\"NON_REQUIRED\", field_domain=\"\")\n",
    "        arcpy.AddField_management(in_table=shpdata,\n",
    "                                  field_name=\"Ymax\", field_type=\"DOUBLE\", field_precision=None, field_scale=None, field_length=None, field_alias=\"\", field_is_nullable=\"NULLABLE\", field_is_required=\"NON_REQUIRED\", field_domain=\"\")\n",
    "        arcpy.AddField_management(in_table=shpdata,\n",
    "                                  field_name=\"Dg\", field_type=\"DOUBLE\", field_precision=None, field_scale=None, field_length=None, field_alias=\"\", field_is_nullable=\"NULLABLE\", field_is_required=\"NON_REQUIRED\", field_domain=\"\")\n",
    "        arcpy.AddField_management(in_table=shpdata,\n",
    "                                  field_name=\"R\", field_type=\"DOUBLE\", field_precision=None, field_scale=None, field_length=None, field_alias=\"\", field_is_nullable=\"NULLABLE\", field_is_required=\"NON_REQUIRED\", field_domain=\"\")\n",
    "        arcpy.CalculateGeometryAttributes_management(in_features=shpdata,\n",
    "                                                     geometry_property=[[\"Xmin\", \"EXTENT_MIN_X\"], [\"Xmax\", \"EXTENT_MAX_X\"], [\"Ymin\", \"EXTENT_MIN_Y\"], [\"Ymax\", \"EXTENT_MAX_Y\"]], length_unit=\"\", area_unit=\"\",\n",
    "                                                     coordinate_system=\"PROJCS['WGS_1984_UTM_Zone_49S',GEOGCS['GCS_WGS_1984',DATUM['D_WGS_1984',SPHEROID['WGS_1984',6378137.0,298.257223563]],PRIMEM['Greenwich',0.0],UNIT['Degree',0.0174532925199433]],PROJECTION['Transverse_Mercator'],PARAMETER['False_Easting',500000.0],PARAMETER['False_Northing',10000000.0],PARAMETER['Central_Meridian',111.0],PARAMETER['Scale_Factor',0.9996],PARAMETER['Latitude_Of_Origin',0.0],UNIT['Meter',1.0]]\")\n",
    "        arcpy.CalculateField_management(in_table=shpdata,\n",
    "                                        field=\"Dg\", expression=\"math.sqrt(((!Xmax!-!Xmin!)**2)+((!Ymax! - !Ymin!)**2))\", expression_type=\"PYTHON3\", code_block=\"\")\n",
    "        arcpy.CalculateField_management(in_table=shpdata, field=\"R\", expression=\"!Dg!/(2*math.sqrt(2))\", expression_type=\"PYTHON3\", code_block=\"\")\n",
    "\n",
    "        arcpy.SelectLayerByLocation_management(in_layer=[shpdata], overlap_type=\"INTERSECT\", select_features=dissolve, search_distance=\"\", selection_type=\"NEW_SELECTION\", invert_spatial_relationship=\"INVERT\")\n",
    "\n",
    "\n",
    "\n",
    "        #Spatial Join\n",
    "        arcpy.SpatialJoin_analysis(target_features=dissolve, join_features=shpdata,\n",
    "                                   out_feature_class=shpsj,\n",
    "                                   join_operation=\"JOIN_ONE_TO_ONE\",\n",
    "                                   join_type=\"KEEP_ALL\",\n",
    "                                   field_mapping=\"LONGITUDE \\\"LONGITUDE\\\" true true false 0 Double 0 0,First,#,D:\\\\DEEP LEARNING\\\\SANDI_TEST.gdb\\\\LOKASI_PALM,LONGITUDE,-1,-1;LATITUDE \\\"LATITUDE\\\" true true false 0 Double 0 0,First,#,D:\\\\DEEP LEARNING\\\\SANDI_TEST.gdb\\\\LOKASI_PALM,LATITUDE,-1,-1;FIRST_LONGITUDE \\\"FIRST_LONGITUDE\\\" true true false 0 Double 0 0,First,#,D:\\\\DEEP LEARNING\\\\SANDI_TEST.gdb\\\\LOKASI_PALM,FIRST_LONGITUDE,-1,-1;FIRST_LATITUDE \\\"FIRST_LATITUDE\\\" true true false 0 Double 0 0,First,#,D:\\\\DEEP LEARNING\\\\SANDI_TEST.gdb\\\\LOKASI_PALM,FIRST_LATITUDE,-1,-1;NEAR_FID \\\"NEAR_FID\\\" true true false 0 Long 0 0,First,#,D:\\\\DEEP LEARNING\\\\SANDI_TEST.gdb\\\\LOKASI_PALM,NEAR_FID,-1,-1;NEAR_DIST \\\"NEAR_DIST\\\" true true false 0 Double 0 0,First,#,D:\\\\DEEP LEARNING\\\\SANDI_TEST.gdb\\\\LOKASI_PALM,NEAR_DIST,-1,-1;Class \\\"Class\\\" true true false 1024 Text 0 0,First,#,D:\\\\DEEP LEARNING\\\\SANDI_TEST.gdb\\\\HASIL_OBJECT_DETECTION_16_1,Class,0,1024;Confidence \\\"Confidence\\\" true true false 8 Double 0 0,First,#,D:\\\\DEEP LEARNING\\\\SANDI_TEST.gdb\\\\HASIL_OBJECT_DETECTION_16_1,Confidence,-1,-1;Shape_Length \\\"Shape_Length\\\" false true true 8 Double 0 0,First,#,D:\\\\DEEP LEARNING\\\\SANDI_TEST.gdb\\\\HASIL_OBJECT_DETECTION_16_1,Shape_Length,-1,-1;Shape_Area \\\"Shape_Area\\\" false true true 8 Double 0 0,First,#,D:\\\\DEEP LEARNING\\\\SANDI_TEST.gdb\\\\HASIL_OBJECT_DETECTION_16_1,Shape_Area,-1,-1;Xmin \\\"Xmin\\\" true true false 0 Double 0 0,First,#,D:\\\\DEEP LEARNING\\\\SANDI_TEST.gdb\\\\HASIL_OBJECT_DETECTION_16_1,Xmin,-1,-1;Xmax \\\"Xmax\\\" true true false 0 Double 0 0,First,#,D:\\\\DEEP LEARNING\\\\SANDI_TEST.gdb\\\\HASIL_OBJECT_DETECTION_16_1,Xmax,-1,-1;Ymin \\\"Ymin\\\" true true false 0 Double 0 0,First,#,D:\\\\DEEP LEARNING\\\\SANDI_TEST.gdb\\\\HASIL_OBJECT_DETECTION_16_1,Ymin,-1,-1;Ymax \\\"Ymax\\\" true true false 0 Double 0 0,First,#,D:\\\\DEEP LEARNING\\\\SANDI_TEST.gdb\\\\HASIL_OBJECT_DETECTION_16_1,Ymax,-1,-1;Dg \\\"Dg\\\" true true false 0 Double 0 0,First,#,D:\\\\DEEP LEARNING\\\\SANDI_TEST.gdb\\\\HASIL_OBJECT_DETECTION_16_1,Dg,-1,-1;R \\\"R\\\" true true false 0 Double 0 0,First,#,D:\\\\DEEP LEARNING\\\\SANDI_TEST.gdb\\\\HASIL_OBJECT_DETECTION_16_1,R,-1,-1;LONGITUDE_1 \\\"LONGITUDE\\\" true true false 0 Double 0 0,First,#,D:\\\\DEEP LEARNING\\\\SANDI_TEST.gdb\\\\LOKASI_PALM,LONGITUDE,-1,-1;LATITUDE_1 \\\"LATITUDE\\\" true true false 0 Double 0 0,First,#,D:\\\\DEEP LEARNING\\\\SANDI_TEST.gdb\\\\LOKASI_PALM,LATITUDE,-1,-1;FIRST_LONGITUDE_1 \\\"FIRST_LONGITUDE\\\" true true false 0 Double 0 0,First,#,D:\\\\DEEP LEARNING\\\\SANDI_TEST.gdb\\\\LOKASI_PALM,FIRST_LONGITUDE,-1,-1;FIRST_LATITUDE_1 \\\"FIRST_LATITUDE\\\" true true false 0 Double 0 0,First,#,D:\\\\DEEP LEARNING\\\\SANDI_TEST.gdb\\\\LOKASI_PALM,FIRST_LATITUDE,-1,-1;NEAR_FID_1 \\\"NEAR_FID\\\" true true false 0 Long 0 0,First,#,D:\\\\DEEP LEARNING\\\\SANDI_TEST.gdb\\\\LOKASI_PALM,NEAR_FID,-1,-1;NEAR_DIST_1 \\\"NEAR_DIST\\\" true true false 0 Double 0 0,First,#,D:\\\\DEEP LEARNING\\\\SANDI_TEST.gdb\\\\LOKASI_PALM,NEAR_DIST,-1,-1;Class_1 \\\"Class\\\" true true false 1024 Text 0 0,First,#,D:\\\\DEEP LEARNING\\\\SANDI_TEST.gdb\\\\HASIL_OBJECT_DETECTION_16_1,Class,0,1024;Confidence_1 \\\"Confidence\\\" true true false 8 Double 0 0,First,#,D:\\\\DEEP LEARNING\\\\SANDI_TEST.gdb\\\\HASIL_OBJECT_DETECTION_16_1,Confidence,-1,-1;Shape_Length_1 \\\"Shape_Length\\\" false true true 8 Double 0 0,First,#,D:\\\\DEEP LEARNING\\\\SANDI_TEST.gdb\\\\HASIL_OBJECT_DETECTION_16_1,Shape_Length,-1,-1;Shape_Area_1 \\\"Shape_Area\\\" false true true 8 Double 0 0,First,#,D:\\\\DEEP LEARNING\\\\SANDI_TEST.gdb\\\\HASIL_OBJECT_DETECTION_16_1,Shape_Area,-1,-1;Xmin_1 \\\"Xmin\\\" true true false 0 Double 0 0,First,#,D:\\\\DEEP LEARNING\\\\SANDI_TEST.gdb\\\\HASIL_OBJECT_DETECTION_16_1,Xmin,-1,-1;Xmax_1 \\\"Xmax\\\" true true false 0 Double 0 0,First,#,D:\\\\DEEP LEARNING\\\\SANDI_TEST.gdb\\\\HASIL_OBJECT_DETECTION_16_1,Xmax,-1,-1;Ymin_1 \\\"Ymin\\\" true true false 0 Double 0 0,First,#,D:\\\\DEEP LEARNING\\\\SANDI_TEST.gdb\\\\HASIL_OBJECT_DETECTION_16_1,Ymin,-1,-1;Ymax_1 \\\"Ymax\\\" true true false 0 Double 0 0,First,#,D:\\\\DEEP LEARNING\\\\SANDI_TEST.gdb\\\\HASIL_OBJECT_DETECTION_16_1,Ymax,-1,-1;Dg_1 \\\"Dg\\\" true true false 0 Double 0 0,First,#,D:\\\\DEEP LEARNING\\\\SANDI_TEST.gdb\\\\HASIL_OBJECT_DETECTION_16_1,Dg,-1,-1;R_1 \\\"R\\\" true true false 0 Double 0 0,First,#,D:\\\\DEEP LEARNING\\\\SANDI_TEST.gdb\\\\HASIL_OBJECT_DETECTION_16_1,R,-1,-1\", match_option=\"INTERSECT\", search_radius=\"\", distance_field_name=\"\")\n",
    "        arcpy.Buffer_analysis(in_features=shpsj, out_feature_class=finalresult,\n",
    "                              buffer_distance_or_field=\"R\", line_side=\"FULL\", line_end_type=\"ROUND\", dissolve_option=\"NONE\", dissolve_field=[], method=\"PLANAR\")"
   ]
  },
  {
   "cell_type": "code",
   "execution_count": 80,
   "metadata": {},
   "outputs": [],
   "source": [
    "Model(dataset)"
   ]
  },
  {
   "cell_type": "code",
   "execution_count": 77,
   "metadata": {},
   "outputs": [
    {
     "name": "stdout",
     "output_type": "stream",
     "text": [
      "Proses Deteksi Selesai Yeyyyyyy Senangnyaaaaa!!!!!!!!!!!!!!!!!!!!!\n"
     ]
    }
   ],
   "source": [
    "print(\"Proses Deteksi Selesai Yeyyyyyy Senangnyaaaaa!!!!!!!!!!!!!!!!!!!!!\")"
   ]
  }
 ],
 "metadata": {
  "kernelspec": {
   "display_name": "Python 3",
   "language": "python",
   "name": "python3"
  },
  "language_info": {
   "codemirror_mode": {
    "name": "ipython",
    "version": 3
   },
   "file_extension": ".py",
   "mimetype": "text/x-python",
   "name": "python",
   "nbconvert_exporter": "python",
   "pygments_lexer": "ipython3",
   "version": "3.6.6"
  }
 },
 "nbformat": 4,
 "nbformat_minor": 2
}
