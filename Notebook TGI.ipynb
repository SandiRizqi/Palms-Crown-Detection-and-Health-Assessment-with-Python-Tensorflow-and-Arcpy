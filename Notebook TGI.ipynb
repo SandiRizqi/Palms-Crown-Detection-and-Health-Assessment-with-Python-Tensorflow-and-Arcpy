{
 "cells": [
  {
   "cell_type": "code",
   "execution_count": 1,
   "metadata": {},
   "outputs": [],
   "source": [
    "#Import Module\n",
    "import arcpy\n",
    "from arcpy import *\n",
    "from arcpy.sa import *\n",
    "import glob"
   ]
  },
  {
   "cell_type": "code",
   "execution_count": 2,
   "metadata": {},
   "outputs": [
    {
     "data": {
      "text/plain": [
       "'CheckedOut'"
      ]
     },
     "execution_count": 2,
     "metadata": {},
     "output_type": "execute_result"
    }
   ],
   "source": [
    "#CheckSystem\n",
    "arcpy.env.overwriteOutput = False\n",
    "arcpy.CheckOutExtension(\"ImageAnalyst\")"
   ]
  },
  {
   "cell_type": "code",
   "execution_count": 12,
   "metadata": {},
   "outputs": [],
   "source": [
    "#Define Variabel\n",
    "listimages = glob.glob('D:\\SANDI\\DEEP LEARNING\\FORMAT TIF\\*.tif')\n",
    "listshp = glob.glob('D:\\SANDI\\DEEP LEARNING\\HASIL DETEKSI\\SELESAI\\*.shp')"
   ]
  },
  {
   "cell_type": "code",
   "execution_count": 4,
   "metadata": {
    "scrolled": true
   },
   "outputs": [
    {
     "name": "stdout",
     "output_type": "stream",
     "text": [
      "D:\\SANDI\\DEEP LEARNING\\FORMAT TIF\\20204121C.tif\n",
      "D:\\SANDI\\DEEP LEARNING\\FORMAT TIF\\20204121E.tif\n",
      "D:\\SANDI\\DEEP LEARNING\\FORMAT TIF\\20204121H.tif\n",
      "D:\\SANDI\\DEEP LEARNING\\FORMAT TIF\\20204121I.tif\n",
      "D:\\SANDI\\DEEP LEARNING\\FORMAT TIF\\20204121J.tif\n",
      "D:\\SANDI\\DEEP LEARNING\\FORMAT TIF\\20204122A.tif\n",
      "D:\\SANDI\\DEEP LEARNING\\FORMAT TIF\\20204122F.tif\n",
      "D:\\SANDI\\DEEP LEARNING\\FORMAT TIF\\20204122G.tif\n",
      "D:\\SANDI\\DEEP LEARNING\\FORMAT TIF\\20204122K.tif\n",
      "D:\\SANDI\\DEEP LEARNING\\FORMAT TIF\\20204122L.tif\n",
      "D:\\SANDI\\DEEP LEARNING\\FORMAT TIF\\20204122M.tif\n",
      "D:\\SANDI\\DEEP LEARNING\\FORMAT TIF\\20204122N.tif\n",
      "D:\\SANDI\\DEEP LEARNING\\FORMAT TIF\\20204122O.tif\n",
      "D:\\SANDI\\DEEP LEARNING\\FORMAT TIF\\20204122P.tif\n",
      "D:\\SANDI\\DEEP LEARNING\\FORMAT TIF\\20204122S.tif\n",
      "D:\\SANDI\\DEEP LEARNING\\FORMAT TIF\\20204123Q.tif\n",
      "D:\\SANDI\\DEEP LEARNING\\FORMAT TIF\\20204123R.tif\n",
      "D:\\SANDI\\DEEP LEARNING\\FORMAT TIF\\20204123T.tif\n",
      "D:\\SANDI\\DEEP LEARNING\\FORMAT TIF\\20204123U.tif\n",
      "D:\\SANDI\\DEEP LEARNING\\FORMAT TIF\\20204123V.tif\n",
      "D:\\SANDI\\DEEP LEARNING\\FORMAT TIF\\20204123W.tif\n",
      "D:\\SANDI\\DEEP LEARNING\\FORMAT TIF\\20204123X.tif\n",
      "D:\\SANDI\\DEEP LEARNING\\FORMAT TIF\\20204123Y.tif\n",
      "D:\\SANDI\\DEEP LEARNING\\FORMAT TIF\\20204123Z.tif\n"
     ]
    }
   ],
   "source": [
    "#List Image\n",
    "for list in listimages:\n",
    "    print(list)"
   ]
  },
  {
   "cell_type": "code",
   "execution_count": 13,
   "metadata": {},
   "outputs": [
    {
     "name": "stdout",
     "output_type": "stream",
     "text": [
      "D:\\SANDI\\DEEP LEARNING\\HASIL DETEKSI\\SELESAI\\20204121A.shp\n",
      "D:\\SANDI\\DEEP LEARNING\\HASIL DETEKSI\\SELESAI\\20204121B.shp\n",
      "D:\\SANDI\\DEEP LEARNING\\HASIL DETEKSI\\SELESAI\\20204121C.shp\n",
      "D:\\SANDI\\DEEP LEARNING\\HASIL DETEKSI\\SELESAI\\20204121D.shp\n",
      "D:\\SANDI\\DEEP LEARNING\\HASIL DETEKSI\\SELESAI\\20204121E.shp\n",
      "D:\\SANDI\\DEEP LEARNING\\HASIL DETEKSI\\SELESAI\\20204121I.shp\n",
      "D:\\SANDI\\DEEP LEARNING\\HASIL DETEKSI\\SELESAI\\20204121J.shp\n",
      "D:\\SANDI\\DEEP LEARNING\\HASIL DETEKSI\\SELESAI\\20204122A.shp\n",
      "D:\\SANDI\\DEEP LEARNING\\HASIL DETEKSI\\SELESAI\\20204122F.shp\n",
      "D:\\SANDI\\DEEP LEARNING\\HASIL DETEKSI\\SELESAI\\20204122G.shp\n",
      "D:\\SANDI\\DEEP LEARNING\\HASIL DETEKSI\\SELESAI\\20204122H.shp\n",
      "D:\\SANDI\\DEEP LEARNING\\HASIL DETEKSI\\SELESAI\\20204122K.shp\n",
      "D:\\SANDI\\DEEP LEARNING\\HASIL DETEKSI\\SELESAI\\20204122L.shp\n",
      "D:\\SANDI\\DEEP LEARNING\\HASIL DETEKSI\\SELESAI\\20204122M.shp\n",
      "D:\\SANDI\\DEEP LEARNING\\HASIL DETEKSI\\SELESAI\\20204122N.shp\n",
      "D:\\SANDI\\DEEP LEARNING\\HASIL DETEKSI\\SELESAI\\20204122O.shp\n",
      "D:\\SANDI\\DEEP LEARNING\\HASIL DETEKSI\\SELESAI\\20204122P.shp\n",
      "D:\\SANDI\\DEEP LEARNING\\HASIL DETEKSI\\SELESAI\\20204122S.shp\n",
      "D:\\SANDI\\DEEP LEARNING\\HASIL DETEKSI\\SELESAI\\20204123Q.shp\n",
      "D:\\SANDI\\DEEP LEARNING\\HASIL DETEKSI\\SELESAI\\20204123R.shp\n",
      "D:\\SANDI\\DEEP LEARNING\\HASIL DETEKSI\\SELESAI\\20204123T.shp\n",
      "D:\\SANDI\\DEEP LEARNING\\HASIL DETEKSI\\SELESAI\\20204123U.shp\n",
      "D:\\SANDI\\DEEP LEARNING\\HASIL DETEKSI\\SELESAI\\20204123V.shp\n",
      "D:\\SANDI\\DEEP LEARNING\\HASIL DETEKSI\\SELESAI\\20204123W.shp\n",
      "D:\\SANDI\\DEEP LEARNING\\HASIL DETEKSI\\SELESAI\\20204123X.shp\n",
      "D:\\SANDI\\DEEP LEARNING\\HASIL DETEKSI\\SELESAI\\20204123Y.shp\n",
      "D:\\SANDI\\DEEP LEARNING\\HASIL DETEKSI\\SELESAI\\20204123Z.shp\n"
     ]
    }
   ],
   "source": [
    "#List Shp\n",
    "for shp in listshp:\n",
    "    print(shp)"
   ]
  },
  {
   "cell_type": "code",
   "execution_count": 134,
   "metadata": {},
   "outputs": [
    {
     "name": "stdout",
     "output_type": "stream",
     "text": [
      "Daftar Proses;\n",
      "D:\\SANDI\\DEEP LEARNING\\FORMAT TIF\\20204121C.tif\n",
      "D:\\SANDI\\DEEP LEARNING\\FORMAT TIF\\20204121E.tif\n",
      "D:\\SANDI\\DEEP LEARNING\\FORMAT TIF\\20204121H.tif\n",
      "D:\\SANDI\\DEEP LEARNING\\FORMAT TIF\\20204121I.tif\n",
      "D:\\SANDI\\DEEP LEARNING\\FORMAT TIF\\20204121J.tif\n",
      "D:\\SANDI\\DEEP LEARNING\\FORMAT TIF\\20204122A.tif\n",
      "D:\\SANDI\\DEEP LEARNING\\FORMAT TIF\\20204122F.tif\n",
      "D:\\SANDI\\DEEP LEARNING\\FORMAT TIF\\20204122G.tif\n",
      "D:\\SANDI\\DEEP LEARNING\\FORMAT TIF\\20204122K.tif\n",
      "D:\\SANDI\\DEEP LEARNING\\FORMAT TIF\\20204122L.tif\n",
      "D:\\SANDI\\DEEP LEARNING\\FORMAT TIF\\20204122M.tif\n",
      "D:\\SANDI\\DEEP LEARNING\\FORMAT TIF\\20204122N.tif\n",
      "D:\\SANDI\\DEEP LEARNING\\FORMAT TIF\\20204122O.tif\n",
      "D:\\SANDI\\DEEP LEARNING\\FORMAT TIF\\20204122P.tif\n",
      "D:\\SANDI\\DEEP LEARNING\\FORMAT TIF\\20204122S.tif\n",
      "D:\\SANDI\\DEEP LEARNING\\FORMAT TIF\\20204123Q.tif\n",
      "D:\\SANDI\\DEEP LEARNING\\FORMAT TIF\\20204123R.tif\n",
      "D:\\SANDI\\DEEP LEARNING\\FORMAT TIF\\20204123T.tif\n",
      "D:\\SANDI\\DEEP LEARNING\\FORMAT TIF\\20204123U.tif\n",
      "D:\\SANDI\\DEEP LEARNING\\FORMAT TIF\\20204123V.tif\n",
      "D:\\SANDI\\DEEP LEARNING\\FORMAT TIF\\20204123W.tif\n",
      "D:\\SANDI\\DEEP LEARNING\\FORMAT TIF\\20204123X.tif\n",
      "D:\\SANDI\\DEEP LEARNING\\FORMAT TIF\\20204123Y.tif\n",
      "D:\\SANDI\\DEEP LEARNING\\FORMAT TIF\\20204123Z.tif\n"
     ]
    }
   ],
   "source": [
    "#Proses Pembuatan Indeks Vegetasi\n",
    "print('Daftar Proses;')\n",
    "for raster in listimages:\n",
    "    print(raster)\n",
    "    band1 = raster+\"\\Band_1\"\n",
    "    band2 = raster+\"\\Band_2\"\n",
    "    band3 = raster+\"\\Band_3\"\n",
    "    raster1 = Raster(band1)\n",
    "    raster2 = Raster(band2)\n",
    "    raster3 = Raster(band3)\n",
    "    TGL = -0.5*((190*(Float(raster1) - Float(raster2)))-(120*(Float(raster1)-Float(raster3))))\n",
    "    TGL.save('D:/SANDI/DEEP LEARNING/TGL/TGI_' + raster[-13:])"
   ]
  },
  {
   "cell_type": "code",
   "execution_count": 5,
   "metadata": {},
   "outputs": [
    {
     "name": "stdout",
     "output_type": "stream",
     "text": [
      "D:\\SANDI\\DEEP LEARNING\\TGL\\TGI_20204121D.tif\n",
      "D:\\SANDI\\DEEP LEARNING\\TGL\\TGI_20204121I.tif\n",
      "D:\\SANDI\\DEEP LEARNING\\TGL\\TGI_20204121J.tif\n",
      "D:\\SANDI\\DEEP LEARNING\\TGL\\TGI_20204122A.tif\n",
      "D:\\SANDI\\DEEP LEARNING\\TGL\\TGI_20204122F.tif\n",
      "D:\\SANDI\\DEEP LEARNING\\TGL\\TGI_20204122G.tif\n",
      "D:\\SANDI\\DEEP LEARNING\\TGL\\TGI_20204122H.tif\n",
      "D:\\SANDI\\DEEP LEARNING\\TGL\\TGI_20204122K.tif\n",
      "D:\\SANDI\\DEEP LEARNING\\TGL\\TGI_20204122L.tif\n",
      "D:\\SANDI\\DEEP LEARNING\\TGL\\TGI_20204122M.tif\n",
      "D:\\SANDI\\DEEP LEARNING\\TGL\\TGI_20204122N.tif\n",
      "D:\\SANDI\\DEEP LEARNING\\TGL\\TGI_20204122O.tif\n",
      "D:\\SANDI\\DEEP LEARNING\\TGL\\TGI_20204122P.tif\n",
      "D:\\SANDI\\DEEP LEARNING\\TGL\\TGI_20204122S.tif\n",
      "D:\\SANDI\\DEEP LEARNING\\TGL\\TGI_20204123Q.tif\n",
      "D:\\SANDI\\DEEP LEARNING\\TGL\\TGI_20204123R.tif\n",
      "D:\\SANDI\\DEEP LEARNING\\TGL\\TGI_20204123T.tif\n",
      "D:\\SANDI\\DEEP LEARNING\\TGL\\TGI_20204123U.tif\n",
      "D:\\SANDI\\DEEP LEARNING\\TGL\\TGI_20204123V.tif\n",
      "D:\\SANDI\\DEEP LEARNING\\TGL\\TGI_20204123W.tif\n",
      "D:\\SANDI\\DEEP LEARNING\\TGL\\TGI_20204123X.tif\n",
      "D:\\SANDI\\DEEP LEARNING\\TGL\\TGI_20204123Y.tif\n",
      "D:\\SANDI\\DEEP LEARNING\\TGL\\TGI_20204123Z.tif\n"
     ]
    }
   ],
   "source": [
    "#List TGI\n",
    "listTGI = glob.glob('D:\\SANDI\\DEEP LEARNING\\TGL\\*.tif')\n",
    "for ltgi in listTGI:\n",
    "    print(ltgi)"
   ]
  },
  {
   "cell_type": "code",
   "execution_count": 6,
   "metadata": {},
   "outputs": [
    {
     "name": "stdout",
     "output_type": "stream",
     "text": [
      "D:\\SANDI\\DEEP LEARNING\\HASIL DETEKSI\\20204121D.shp D:\\SANDI\\DEEP LEARNING\\TGL\\TGI_20204121D.tif\n"
     ]
    },
    {
     "ename": "TypeError",
     "evalue": "'module' object is not callable",
     "output_type": "error",
     "traceback": [
      "\u001b[1;31m---------------------------------------------------------------------------\u001b[0m",
      "\u001b[1;31mTypeError\u001b[0m                                 Traceback (most recent call last)",
      "\u001b[1;31mTypeError\u001b[0m: 'module' object is not callable"
     ]
    },
    {
     "ename": "TypeError",
     "evalue": "'module' object is not callable",
     "output_type": "error",
     "traceback": [
      "\u001b[1;31m---------------------------------------------------------------------------\u001b[0m",
      "\u001b[1;31mTypeError\u001b[0m                                 Traceback (most recent call last)",
      "\u001b[1;31mTypeError\u001b[0m: 'module' object is not callable"
     ]
    },
    {
     "ename": "TypeError",
     "evalue": "'module' object is not callable",
     "output_type": "error",
     "traceback": [
      "\u001b[1;31m---------------------------------------------------------------------------\u001b[0m",
      "\u001b[1;31mTypeError\u001b[0m                                 Traceback (most recent call last)",
      "\u001b[1;31mTypeError\u001b[0m: 'module' object is not callable"
     ]
    },
    {
     "ename": "TypeError",
     "evalue": "'module' object is not callable",
     "output_type": "error",
     "traceback": [
      "\u001b[1;31m---------------------------------------------------------------------------\u001b[0m",
      "\u001b[1;31mTypeError\u001b[0m                                 Traceback (most recent call last)",
      "\u001b[1;31mTypeError\u001b[0m: 'module' object is not callable"
     ]
    },
    {
     "ename": "TypeError",
     "evalue": "'module' object is not callable",
     "output_type": "error",
     "traceback": [
      "\u001b[1;31m---------------------------------------------------------------------------\u001b[0m",
      "\u001b[1;31mTypeError\u001b[0m                                 Traceback (most recent call last)",
      "\u001b[1;31mTypeError\u001b[0m: 'module' object is not callable"
     ]
    },
    {
     "ename": "TypeError",
     "evalue": "'module' object is not callable",
     "output_type": "error",
     "traceback": [
      "\u001b[1;31m---------------------------------------------------------------------------\u001b[0m",
      "\u001b[1;31mTypeError\u001b[0m                                 Traceback (most recent call last)",
      "\u001b[1;31mTypeError\u001b[0m: 'module' object is not callable"
     ]
    },
    {
     "name": "stdout",
     "output_type": "stream",
     "text": [
      "D:\\SANDI\\DEEP LEARNING\\HASIL DETEKSI\\20204121I.shp D:\\SANDI\\DEEP LEARNING\\TGL\\TGI_20204121I.tif\n",
      "D:\\SANDI\\DEEP LEARNING\\HASIL DETEKSI\\20204121J.shp D:\\SANDI\\DEEP LEARNING\\TGL\\TGI_20204121J.tif\n",
      "D:\\SANDI\\DEEP LEARNING\\HASIL DETEKSI\\20204122A.shp D:\\SANDI\\DEEP LEARNING\\TGL\\TGI_20204122A.tif\n",
      "D:\\SANDI\\DEEP LEARNING\\HASIL DETEKSI\\20204122F.shp D:\\SANDI\\DEEP LEARNING\\TGL\\TGI_20204122F.tif\n",
      "D:\\SANDI\\DEEP LEARNING\\HASIL DETEKSI\\20204122G.shp D:\\SANDI\\DEEP LEARNING\\TGL\\TGI_20204122G.tif\n",
      "D:\\SANDI\\DEEP LEARNING\\HASIL DETEKSI\\20204122H.shp D:\\SANDI\\DEEP LEARNING\\TGL\\TGI_20204122H.tif\n",
      "D:\\SANDI\\DEEP LEARNING\\HASIL DETEKSI\\20204122K.shp D:\\SANDI\\DEEP LEARNING\\TGL\\TGI_20204122K.tif\n",
      "D:\\SANDI\\DEEP LEARNING\\HASIL DETEKSI\\20204122L.shp D:\\SANDI\\DEEP LEARNING\\TGL\\TGI_20204122L.tif\n",
      "D:\\SANDI\\DEEP LEARNING\\HASIL DETEKSI\\20204122M.shp D:\\SANDI\\DEEP LEARNING\\TGL\\TGI_20204122M.tif\n",
      "D:\\SANDI\\DEEP LEARNING\\HASIL DETEKSI\\20204122N.shp D:\\SANDI\\DEEP LEARNING\\TGL\\TGI_20204122N.tif\n",
      "D:\\SANDI\\DEEP LEARNING\\HASIL DETEKSI\\20204122O.shp D:\\SANDI\\DEEP LEARNING\\TGL\\TGI_20204122O.tif\n",
      "D:\\SANDI\\DEEP LEARNING\\HASIL DETEKSI\\20204122P.shp D:\\SANDI\\DEEP LEARNING\\TGL\\TGI_20204122P.tif\n",
      "D:\\SANDI\\DEEP LEARNING\\HASIL DETEKSI\\20204122S.shp D:\\SANDI\\DEEP LEARNING\\TGL\\TGI_20204122S.tif\n",
      "D:\\SANDI\\DEEP LEARNING\\HASIL DETEKSI\\20204123Q.shp D:\\SANDI\\DEEP LEARNING\\TGL\\TGI_20204123Q.tif\n",
      "D:\\SANDI\\DEEP LEARNING\\HASIL DETEKSI\\20204123R.shp D:\\SANDI\\DEEP LEARNING\\TGL\\TGI_20204123R.tif\n",
      "D:\\SANDI\\DEEP LEARNING\\HASIL DETEKSI\\20204123T.shp D:\\SANDI\\DEEP LEARNING\\TGL\\TGI_20204123T.tif\n",
      "D:\\SANDI\\DEEP LEARNING\\HASIL DETEKSI\\20204123U.shp D:\\SANDI\\DEEP LEARNING\\TGL\\TGI_20204123U.tif\n",
      "D:\\SANDI\\DEEP LEARNING\\HASIL DETEKSI\\20204123V.shp D:\\SANDI\\DEEP LEARNING\\TGL\\TGI_20204123V.tif\n",
      "D:\\SANDI\\DEEP LEARNING\\HASIL DETEKSI\\20204123W.shp D:\\SANDI\\DEEP LEARNING\\TGL\\TGI_20204123W.tif\n",
      "D:\\SANDI\\DEEP LEARNING\\HASIL DETEKSI\\20204123X.shp D:\\SANDI\\DEEP LEARNING\\TGL\\TGI_20204123X.tif\n",
      "D:\\SANDI\\DEEP LEARNING\\HASIL DETEKSI\\20204123Y.shp D:\\SANDI\\DEEP LEARNING\\TGL\\TGI_20204123Y.tif\n",
      "D:\\SANDI\\DEEP LEARNING\\HASIL DETEKSI\\20204123Z.shp D:\\SANDI\\DEEP LEARNING\\TGL\\TGI_20204123Z.tif\n"
     ]
    }
   ],
   "source": [
    "#List Zonal Statistic\n",
    "for shp, tgi in zip(shp, listTGI):\n",
    "    print(shp, tgi)\n",
    "    ZS = ZonalStatistics(shp, \"FID\", tgi,\n",
    "                  \"MEAN\")\n",
    "    ZS.save('D:/SANDI/DEEP LEARNING/ZS/'+ \"ZS_\" + tgi[-13:])"
   ]
  },
  {
   "cell_type": "code",
   "execution_count": 20,
   "metadata": {},
   "outputs": [],
   "source": []
  }
 ],
 "metadata": {
  "kernelspec": {
   "display_name": "Python 3",
   "language": "python",
   "name": "python3"
  },
  "language_info": {
   "codemirror_mode": {
    "name": "ipython",
    "version": 3
   },
   "file_extension": ".py",
   "mimetype": "text/x-python",
   "name": "python",
   "nbconvert_exporter": "python",
   "pygments_lexer": "ipython3",
   "version": "3.6.6"
  }
 },
 "nbformat": 4,
 "nbformat_minor": 2
}
