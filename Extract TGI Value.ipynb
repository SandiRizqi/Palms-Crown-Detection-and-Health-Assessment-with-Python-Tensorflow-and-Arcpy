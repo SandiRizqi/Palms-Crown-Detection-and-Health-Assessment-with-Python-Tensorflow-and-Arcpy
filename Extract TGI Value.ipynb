{
 "cells": [
  {
   "cell_type": "code",
   "execution_count": 2,
   "metadata": {},
   "outputs": [],
   "source": [
    "import arcpy\n",
    "from arcpy import *\n",
    "from arcpy.sa import *\n",
    "import glob"
   ]
  },
  {
   "cell_type": "code",
   "execution_count": 8,
   "metadata": {},
   "outputs": [],
   "source": [
    "listpoint = glob.glob('D:\\SANDI\\DEEP LEARNING\\POINT\\ATRIBUT BATAS BLOCK\\*.shp')\n",
    "listzs = glob.glob('D:\\SANDI\\DEEP LEARNING\\ZS\\*.tif')"
   ]
  },
  {
   "cell_type": "code",
   "execution_count": 11,
   "metadata": {},
   "outputs": [
    {
     "ename": "TypeError",
     "evalue": "'module' object is not callable",
     "output_type": "error",
     "traceback": [
      "\u001b[1;31m---------------------------------------------------------------------------\u001b[0m",
      "\u001b[1;31mTypeError\u001b[0m                                 Traceback (most recent call last)",
      "\u001b[1;31mTypeError\u001b[0m: 'module' object is not callable"
     ]
    },
    {
     "ename": "TypeError",
     "evalue": "'module' object is not callable",
     "output_type": "error",
     "traceback": [
      "\u001b[1;31m---------------------------------------------------------------------------\u001b[0m",
      "\u001b[1;31mTypeError\u001b[0m                                 Traceback (most recent call last)",
      "\u001b[1;31mTypeError\u001b[0m: 'module' object is not callable"
     ]
    },
    {
     "ename": "TypeError",
     "evalue": "'module' object is not callable",
     "output_type": "error",
     "traceback": [
      "\u001b[1;31m---------------------------------------------------------------------------\u001b[0m",
      "\u001b[1;31mTypeError\u001b[0m                                 Traceback (most recent call last)",
      "\u001b[1;31mTypeError\u001b[0m: 'module' object is not callable"
     ]
    },
    {
     "ename": "TypeError",
     "evalue": "'module' object is not callable",
     "output_type": "error",
     "traceback": [
      "\u001b[1;31m---------------------------------------------------------------------------\u001b[0m",
      "\u001b[1;31mTypeError\u001b[0m                                 Traceback (most recent call last)",
      "\u001b[1;31mTypeError\u001b[0m: 'module' object is not callable"
     ]
    },
    {
     "ename": "TypeError",
     "evalue": "'module' object is not callable",
     "output_type": "error",
     "traceback": [
      "\u001b[1;31m---------------------------------------------------------------------------\u001b[0m",
      "\u001b[1;31mTypeError\u001b[0m                                 Traceback (most recent call last)",
      "\u001b[1;31mTypeError\u001b[0m: 'module' object is not callable"
     ]
    },
    {
     "ename": "TypeError",
     "evalue": "'module' object is not callable",
     "output_type": "error",
     "traceback": [
      "\u001b[1;31m---------------------------------------------------------------------------\u001b[0m",
      "\u001b[1;31mTypeError\u001b[0m                                 Traceback (most recent call last)",
      "\u001b[1;31mTypeError\u001b[0m: 'module' object is not callable"
     ]
    },
    {
     "name": "stdout",
     "output_type": "stream",
     "text": [
      "D:\\SANDI\\DEEP LEARNING\\HEALTH ASSESSMENT\\20204121A.shp\n",
      "D:\\SANDI\\DEEP LEARNING\\HEALTH ASSESSMENT\\20204121B.shp\n",
      "D:\\SANDI\\DEEP LEARNING\\HEALTH ASSESSMENT\\20204121C.shp\n",
      "D:\\SANDI\\DEEP LEARNING\\HEALTH ASSESSMENT\\20204121D.shp\n",
      "D:\\SANDI\\DEEP LEARNING\\HEALTH ASSESSMENT\\20204121E.shp\n",
      "D:\\SANDI\\DEEP LEARNING\\HEALTH ASSESSMENT\\20204121H.shp\n",
      "D:\\SANDI\\DEEP LEARNING\\HEALTH ASSESSMENT\\20204121I.shp\n",
      "D:\\SANDI\\DEEP LEARNING\\HEALTH ASSESSMENT\\20204121J.shp\n",
      "D:\\SANDI\\DEEP LEARNING\\HEALTH ASSESSMENT\\20204122A.shp\n",
      "D:\\SANDI\\DEEP LEARNING\\HEALTH ASSESSMENT\\20204122F.shp\n",
      "D:\\SANDI\\DEEP LEARNING\\HEALTH ASSESSMENT\\20204122G.shp\n",
      "D:\\SANDI\\DEEP LEARNING\\HEALTH ASSESSMENT\\20204122K.shp\n",
      "D:\\SANDI\\DEEP LEARNING\\HEALTH ASSESSMENT\\20204122L.shp\n",
      "D:\\SANDI\\DEEP LEARNING\\HEALTH ASSESSMENT\\20204122M.shp\n",
      "D:\\SANDI\\DEEP LEARNING\\HEALTH ASSESSMENT\\20204122N.shp\n",
      "D:\\SANDI\\DEEP LEARNING\\HEALTH ASSESSMENT\\20204122O.shp\n",
      "D:\\SANDI\\DEEP LEARNING\\HEALTH ASSESSMENT\\20204122P.shp\n",
      "D:\\SANDI\\DEEP LEARNING\\HEALTH ASSESSMENT\\20204122S.shp\n",
      "D:\\SANDI\\DEEP LEARNING\\HEALTH ASSESSMENT\\20204123Q.shp\n",
      "D:\\SANDI\\DEEP LEARNING\\HEALTH ASSESSMENT\\20204123R.shp\n",
      "D:\\SANDI\\DEEP LEARNING\\HEALTH ASSESSMENT\\20204123T.shp\n",
      "D:\\SANDI\\DEEP LEARNING\\HEALTH ASSESSMENT\\20204123U.shp\n",
      "D:\\SANDI\\DEEP LEARNING\\HEALTH ASSESSMENT\\20204123V.shp\n",
      "D:\\SANDI\\DEEP LEARNING\\HEALTH ASSESSMENT\\20204123W.shp\n",
      "D:\\SANDI\\DEEP LEARNING\\HEALTH ASSESSMENT\\20204123X.shp\n",
      "D:\\SANDI\\DEEP LEARNING\\HEALTH ASSESSMENT\\20204123Y.shp\n",
      "D:\\SANDI\\DEEP LEARNING\\HEALTH ASSESSMENT\\20204123Z.shp\n"
     ]
    }
   ],
   "source": [
    "for p, z in zip(listpoint, listzs):\n",
    "    output = \"D:\\\\SANDI\\\\DEEP LEARNING\\\\HEALTH ASSESSMENT\\\\\" + p[-13:]\n",
    "    ExtractValuesToPoints(p,z,output)\n",
    "    \n",
    "    \n",
    "    print(output)\n",
    "    "
   ]
  }
 ],
 "metadata": {
  "kernelspec": {
   "display_name": "Python 3",
   "language": "python",
   "name": "python3"
  },
  "language_info": {
   "codemirror_mode": {
    "name": "ipython",
    "version": 3
   },
   "file_extension": ".py",
   "mimetype": "text/x-python",
   "name": "python",
   "nbconvert_exporter": "python",
   "pygments_lexer": "ipython3",
   "version": "3.6.6"
  }
 },
 "nbformat": 4,
 "nbformat_minor": 2
}
